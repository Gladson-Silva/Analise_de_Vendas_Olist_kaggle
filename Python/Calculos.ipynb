{
 "cells": [
  {
   "cell_type": "code",
   "execution_count": 1,
   "id": "ef2a7db1-b60f-4596-8cf0-352284e5f0b2",
   "metadata": {},
   "outputs": [
    {
     "name": "stdout",
     "output_type": "stream",
     "text": [
      "<class 'pandas.core.frame.DataFrame'>\n",
      "RangeIndex: 103886 entries, 0 to 103885\n",
      "Data columns (total 12 columns):\n",
      " #   Column                         Non-Null Count   Dtype  \n",
      "---  ------                         --------------   -----  \n",
      " 0   order_id                       103886 non-null  object \n",
      " 1   customer_id                    103886 non-null  object \n",
      " 2   order_status                   103886 non-null  object \n",
      " 3   order_purchase_timestamp       103886 non-null  object \n",
      " 4   order_approved_at              103711 non-null  object \n",
      " 5   order_delivered_carrier_date   101998 non-null  object \n",
      " 6   order_delivered_customer_date  100754 non-null  object \n",
      " 7   order_estimated_delivery_date  103886 non-null  object \n",
      " 8   payment_sequential             103886 non-null  int64  \n",
      " 9   payment_type                   103886 non-null  object \n",
      " 10  payment_installments           103886 non-null  int64  \n",
      " 11  payment_value                  103886 non-null  float64\n",
      "dtypes: float64(1), int64(2), object(9)\n",
      "memory usage: 9.5+ MB\n",
      "None\n"
     ]
    }
   ],
   "source": [
    "import pandas as pd\n",
    "\n",
    "# Carregar o arquivo conciliado que você salvou no passo anterior\n",
    "df_conciliado = pd.read_csv('conciliacao_de_vendas_olist.csv')\n",
    "\n",
    "# Verificar se ele carregou corretamente\n",
    "print(df_conciliado.info())"
   ]
  },
  {
   "cell_type": "code",
   "execution_count": 3,
   "id": "c861c380-2e0e-43bc-a49d-73a0ad5d1eb9",
   "metadata": {},
   "outputs": [
    {
     "name": "stdout",
     "output_type": "stream",
     "text": [
      "<class 'pandas.core.frame.DataFrame'>\n",
      "RangeIndex: 103886 entries, 0 to 103885\n",
      "Data columns (total 12 columns):\n",
      " #   Column                         Non-Null Count   Dtype         \n",
      "---  ------                         --------------   -----         \n",
      " 0   order_id                       103886 non-null  object        \n",
      " 1   customer_id                    103886 non-null  object        \n",
      " 2   order_status                   103886 non-null  object        \n",
      " 3   order_purchase_timestamp       103886 non-null  datetime64[ns]\n",
      " 4   order_approved_at              103711 non-null  object        \n",
      " 5   order_delivered_carrier_date   101998 non-null  object        \n",
      " 6   order_delivered_customer_date  100754 non-null  object        \n",
      " 7   order_estimated_delivery_date  103886 non-null  object        \n",
      " 8   payment_sequential             103886 non-null  int64         \n",
      " 9   payment_type                   103886 non-null  object        \n",
      " 10  payment_installments           103886 non-null  int64         \n",
      " 11  payment_value                  103886 non-null  float64       \n",
      "dtypes: datetime64[ns](1), float64(1), int64(2), object(8)\n",
      "memory usage: 9.5+ MB\n"
     ]
    }
   ],
   "source": [
    "# Converter a coluna de data para o tipo datetime\n",
    "df_conciliado['order_purchase_timestamp'] = pd.to_datetime(df_conciliado['order_purchase_timestamp'])\n",
    "\n",
    "# Conferir se a conversão funcionou\n",
    "df_conciliado.info()"
   ]
  },
  {
   "cell_type": "code",
   "execution_count": null,
   "id": "5c6f46d7-3f5a-4cc9-b630-3984e5f61932",
   "metadata": {},
   "outputs": [],
   "source": [
    "#Cálculo de KPIs e Métricas"
   ]
  },
  {
   "cell_type": "code",
   "execution_count": 4,
   "id": "a27f6072-c7b5-4e18-aff6-4150013341a3",
   "metadata": {},
   "outputs": [
    {
     "name": "stdout",
     "output_type": "stream",
     "text": [
      "Total de pedidos únicos: 99440\n"
     ]
    }
   ],
   "source": [
    "# Contar o número total de pedidos únicos\n",
    "total_pedidos = df_conciliado['order_id'].nunique()\n",
    "print(f\"Total de pedidos únicos: {total_pedidos}\")"
   ]
  },
  {
   "cell_type": "code",
   "execution_count": 5,
   "id": "a7cea72c-4f37-48a1-ba49-4065a813f88d",
   "metadata": {},
   "outputs": [
    {
     "name": "stdout",
     "output_type": "stream",
     "text": [
      "Receita total: R$ 16,008,872.12\n"
     ]
    }
   ],
   "source": [
    "# Calcular a receita total\n",
    "receita_total = df_conciliado['payment_value'].sum()\n",
    "print(f\"Receita total: R$ {receita_total:,.2f}\")"
   ]
  },
  {
   "cell_type": "code",
   "execution_count": 6,
   "id": "924cc7e0-25c1-4104-80f4-af923516493a",
   "metadata": {},
   "outputs": [
    {
     "name": "stdout",
     "output_type": "stream",
     "text": [
      "Ticket médio: R$ 154.10\n"
     ]
    }
   ],
   "source": [
    "# Calcular o ticket médio (valor médio de cada transação)\n",
    "ticket_medio = df_conciliado['payment_value'].mean()\n",
    "print(f\"Ticket médio: R$ {ticket_medio:,.2f}\")"
   ]
  },
  {
   "cell_type": "code",
   "execution_count": 7,
   "id": "6512df23-ea16-4e86-be94-ef99165e3e5f",
   "metadata": {},
   "outputs": [
    {
     "name": "stdout",
     "output_type": "stream",
     "text": [
      "\n",
      "Contagem de pagamentos por tipo:\n",
      "payment_type\n",
      "credit_card    76795\n",
      "boleto         19784\n",
      "voucher         5775\n",
      "debit_card      1529\n",
      "not_defined        3\n",
      "Name: count, dtype: int64\n"
     ]
    }
   ],
   "source": [
    "# Contar o número de pagamentos por tipo\n",
    "contagem_pagamentos = df_conciliado['payment_type'].value_counts()\n",
    "print(\"\\nContagem de pagamentos por tipo:\")\n",
    "print(contagem_pagamentos)"
   ]
  },
  {
   "cell_type": "code",
   "execution_count": null,
   "id": "a5308cd0-a597-491e-9ed3-2d47a0a05696",
   "metadata": {},
   "outputs": [],
   "source": [
    "#Análise de Variação Temporal"
   ]
  },
  {
   "cell_type": "code",
   "execution_count": 8,
   "id": "779bab63-372d-4f50-8249-e4c5226e34de",
   "metadata": {},
   "outputs": [],
   "source": [
    "# Criar uma nova coluna para o mês e ano\n",
    "df_conciliado['mes_ano'] = df_conciliado['order_purchase_timestamp'].dt.to_period('M')"
   ]
  },
  {
   "cell_type": "code",
   "execution_count": 9,
   "id": "cd5235f1-3211-4f44-9d05-6b7223b838c3",
   "metadata": {},
   "outputs": [],
   "source": [
    "# Agrupar os dados por mês para ver a receita e o número de pedidos\n",
    "analise_mensal = df_conciliado.groupby('mes_ano').agg(\n",
    "    total_receita=('payment_value', 'sum'),\n",
    "    numero_pedidos=('order_id', 'nunique')\n",
    ").reset_index()"
   ]
  },
  {
   "cell_type": "code",
   "execution_count": 10,
   "id": "aec6ccb2-11e0-4d57-8c65-a95f9d48d451",
   "metadata": {},
   "outputs": [
    {
     "name": "stdout",
     "output_type": "stream",
     "text": [
      "\n",
      "Análise de Receita e Pedidos por Mês:\n",
      "    mes_ano  total_receita  numero_pedidos\n",
      "0   2016-09         252.24               3\n",
      "1   2016-10       59090.48             324\n",
      "2   2016-12          19.62               1\n",
      "3   2017-01      138488.04             800\n",
      "4   2017-02      291908.01            1780\n",
      "5   2017-03      449863.60            2682\n",
      "6   2017-04      417788.03            2404\n",
      "7   2017-05      592918.82            3700\n",
      "8   2017-06      511276.38            3245\n",
      "9   2017-07      592382.92            4026\n",
      "10  2017-08      674396.32            4331\n",
      "11  2017-09      727762.45            4285\n",
      "12  2017-10      779677.88            4631\n",
      "13  2017-11     1194882.80            7544\n",
      "14  2017-12      878401.48            5673\n",
      "15  2018-01     1115004.18            7269\n",
      "16  2018-02      992463.34            6728\n",
      "17  2018-03     1159652.12            7211\n",
      "18  2018-04     1160785.48            6939\n",
      "19  2018-05     1153982.15            6873\n",
      "20  2018-06     1023880.50            6167\n",
      "21  2018-07     1066540.75            6292\n",
      "22  2018-08     1022425.32            6512\n",
      "23  2018-09        4439.54              16\n",
      "24  2018-10         589.67               4\n"
     ]
    }
   ],
   "source": [
    "print(\"\\nAnálise de Receita e Pedidos por Mês:\")\n",
    "print(analise_mensal)"
   ]
  },
  {
   "cell_type": "code",
   "execution_count": null,
   "id": "e121e013-1444-4ec9-b0ab-8e34bbe78c5a",
   "metadata": {},
   "outputs": [],
   "source": [
    "# Simulação de Taxas de Pagamento e Receita Líquida"
   ]
  },
  {
   "cell_type": "code",
   "execution_count": 11,
   "id": "175c518e-e48d-4ce5-a32a-5d85f296cd10",
   "metadata": {},
   "outputs": [],
   "source": [
    "# Simular uma taxa de 3% para todos os pagamentos\n",
    "taxa_gateway = 0.03"
   ]
  },
  {
   "cell_type": "code",
   "execution_count": 12,
   "id": "4016d7bf-e302-46ec-94a3-b2361b0d5d6d",
   "metadata": {},
   "outputs": [],
   "source": [
    "# Criar a coluna de valor da taxa\n",
    "df_conciliado['taxa_valor'] = df_conciliado['payment_value'] * taxa_gateway"
   ]
  },
  {
   "cell_type": "code",
   "execution_count": 13,
   "id": "e3129091-60db-4a55-b800-6a39694a8e83",
   "metadata": {},
   "outputs": [],
   "source": [
    "# Criar a coluna de receita líquida\n",
    "df_conciliado['receita_liquida'] = df_conciliado['payment_value'] - df_conciliado['taxa_valor']\n"
   ]
  },
  {
   "cell_type": "code",
   "execution_count": 14,
   "id": "98af4115-a3cf-429b-933d-e744e71504f1",
   "metadata": {},
   "outputs": [
    {
     "name": "stdout",
     "output_type": "stream",
     "text": [
      "\n",
      "DataFrame com Taxa e Receita Líquida:\n",
      "   payment_value  taxa_valor  receita_liquida\n",
      "0          18.12      0.5436          17.5764\n",
      "1           2.00      0.0600           1.9400\n",
      "2          18.59      0.5577          18.0323\n",
      "3         141.46      4.2438         137.2162\n",
      "4         179.12      5.3736         173.7464\n"
     ]
    }
   ],
   "source": [
    "# Verificar o resultado nas primeiras linhas\n",
    "print(\"\\nDataFrame com Taxa e Receita Líquida:\")\n",
    "print(df_conciliado[['payment_value', 'taxa_valor', 'receita_liquida']].head())"
   ]
  },
  {
   "cell_type": "code",
   "execution_count": 15,
   "id": "186436fd-7c40-4105-b4a3-c151a06d3b42",
   "metadata": {},
   "outputs": [
    {
     "name": "stdout",
     "output_type": "stream",
     "text": [
      "\n",
      "Receita líquida total: R$ 15,528,605.96\n"
     ]
    }
   ],
   "source": [
    "# Calcular a receita líquida total\n",
    "receita_liquida_total = df_conciliado['receita_liquida'].sum()\n",
    "print(f\"\\nReceita líquida total: R$ {receita_liquida_total:,.2f}\")"
   ]
  },
  {
   "cell_type": "code",
   "execution_count": 18,
   "id": "cba8eac9-d335-4d19-9471-214981e99601",
   "metadata": {},
   "outputs": [
    {
     "name": "stdout",
     "output_type": "stream",
     "text": [
      "Arquivo 'analise_conciliacao_final.csv' salvo com sucesso com a formatação correta!\n"
     ]
    }
   ],
   "source": [
    "df_conciliado.to_csv('analise_conciliacao_final.csv', index=False, sep=';', decimal=',')\n",
    "\n",
    "print(\"Arquivo 'analise_conciliacao_final.csv' salvo com sucesso com a formatação correta!\")"
   ]
  },
  {
   "cell_type": "code",
   "execution_count": null,
   "id": "bb71da77-c048-47d4-adb8-99c316d939d3",
   "metadata": {},
   "outputs": [],
   "source": []
  }
 ],
 "metadata": {
  "kernelspec": {
   "display_name": "Python [conda env:base] *",
   "language": "python",
   "name": "conda-base-py"
  },
  "language_info": {
   "codemirror_mode": {
    "name": "ipython",
    "version": 3
   },
   "file_extension": ".py",
   "mimetype": "text/x-python",
   "name": "python",
   "nbconvert_exporter": "python",
   "pygments_lexer": "ipython3",
   "version": "3.13.5"
  }
 },
 "nbformat": 4,
 "nbformat_minor": 5
}
