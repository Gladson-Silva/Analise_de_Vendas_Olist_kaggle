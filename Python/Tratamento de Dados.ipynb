{
 "cells": [
  {
   "cell_type": "code",
   "execution_count": 3,
   "id": "011928f0-5070-4ebe-a9f3-8b067252b41b",
   "metadata": {},
   "outputs": [],
   "source": [
    "import pandas as pd"
   ]
  },
  {
   "cell_type": "code",
   "execution_count": 4,
   "id": "0a87cf2f-c2dd-4d6e-9dd4-97d78d3eb028",
   "metadata": {},
   "outputs": [],
   "source": [
    "df_orders = pd.read_csv('C:/Users/Gladson Silva/Desktop/Analise de Dados/Olist Marktplace Sales/sistema de vendas.csv')\n",
    "df_payments = pd.read_csv('C:/Users/Gladson Silva/Desktop/Analise de Dados/Olist Marktplace Sales/extrato do gateway de pagamento.csv')"
   ]
  },
  {
   "cell_type": "code",
   "execution_count": 5,
   "id": "b85f80fb-65c2-4be7-9d51-2cadd5c54bd1",
   "metadata": {},
   "outputs": [
    {
     "name": "stdout",
     "output_type": "stream",
     "text": [
      "DataFrame de Pedidos (df_orders):\n",
      "                           order_id                       customer_id  \\\n",
      "0  e481f51cbdc54678b7cc49136f2d6af7  9ef432eb6251297304e76186b10a928d   \n",
      "1  53cdb2fc8bc7dce0b6741e2150273451  b0830fb4747a6c6d20dea0b8c802d7ef   \n",
      "2  47770eb9100c2d0c44946d9cf07ec65d  41ce2a54c0b03bf3443c3d931a367089   \n",
      "3  949d5b44dbf5de918fe9c16f97b45f8a  f88197465ea7920adcdbec7375364d82   \n",
      "4  ad21c59c0840e6cb83a9ceb5573f8159  8ab97904e6daea8866dbdbc4fb7aad2c   \n",
      "\n",
      "  order_status order_purchase_timestamp    order_approved_at  \\\n",
      "0    delivered      2017-10-02 10:56:33  2017-10-02 11:07:15   \n",
      "1    delivered      2018-07-24 20:41:37  2018-07-26 03:24:27   \n",
      "2    delivered      2018-08-08 08:38:49  2018-08-08 08:55:23   \n",
      "3    delivered      2017-11-18 19:28:06  2017-11-18 19:45:59   \n",
      "4    delivered      2018-02-13 21:18:39  2018-02-13 22:20:29   \n",
      "\n",
      "  order_delivered_carrier_date order_delivered_customer_date  \\\n",
      "0          2017-10-04 19:55:00           2017-10-10 21:25:13   \n",
      "1          2018-07-26 14:31:00           2018-08-07 15:27:45   \n",
      "2          2018-08-08 13:50:00           2018-08-17 18:06:29   \n",
      "3          2017-11-22 13:39:59           2017-12-02 00:28:42   \n",
      "4          2018-02-14 19:46:34           2018-02-16 18:17:02   \n",
      "\n",
      "  order_estimated_delivery_date  \n",
      "0           2017-10-18 00:00:00  \n",
      "1           2018-08-13 00:00:00  \n",
      "2           2018-09-04 00:00:00  \n",
      "3           2017-12-15 00:00:00  \n",
      "4           2018-02-26 00:00:00  \n",
      "\n",
      "==================================================\n",
      "\n"
     ]
    }
   ],
   "source": [
    "# Ver as 5 primeiras linhas de cada DataFrame para uma visão geral\n",
    "print(\"DataFrame de Pedidos (df_orders):\")\n",
    "print(df_orders.head())\n",
    "print(\"\\n\" + \"=\"*50 + \"\\n\")"
   ]
  },
  {
   "cell_type": "code",
   "execution_count": 7,
   "id": "69689bba-c87c-4812-9f81-a527b61027dd",
   "metadata": {},
   "outputs": [
    {
     "name": "stdout",
     "output_type": "stream",
     "text": [
      "DataFrame de Pagamentos (df_payments):\n",
      "                           order_id  payment_sequential payment_type  \\\n",
      "0  b81ef226f3fe1789b1e8b2acac839d17                   1  credit_card   \n",
      "1  a9810da82917af2d9aefd1278f1dcfa0                   1  credit_card   \n",
      "2  25e8ea4e93396b6fa0d3dd708e76c1bd                   1  credit_card   \n",
      "3  ba78997921bbcdc1373bb41e913ab953                   1  credit_card   \n",
      "4  42fdf880ba16b47b59251dd489d4441a                   1  credit_card   \n",
      "\n",
      "   payment_installments  payment_value  \n",
      "0                     8          99.33  \n",
      "1                     1          24.39  \n",
      "2                     1          65.71  \n",
      "3                     8         107.78  \n",
      "4                     2         128.45  \n",
      "\n",
      "==================================================\n",
      "\n"
     ]
    }
   ],
   "source": [
    "# Ver as 5 primeiras linhas de cada DataFrame para uma visão geral\n",
    "print(\"DataFrame de Pagamentos (df_payments):\")\n",
    "print(df_payments.head())\n",
    "print(\"\\n\" + \"=\"*50 + \"\\n\")"
   ]
  },
  {
   "cell_type": "code",
   "execution_count": 8,
   "id": "c8b1a774-645f-4a69-bb78-fc2e2a380aea",
   "metadata": {},
   "outputs": [
    {
     "name": "stdout",
     "output_type": "stream",
     "text": [
      "Informações sobre df_orders:\n",
      "<class 'pandas.core.frame.DataFrame'>\n",
      "RangeIndex: 99441 entries, 0 to 99440\n",
      "Data columns (total 8 columns):\n",
      " #   Column                         Non-Null Count  Dtype \n",
      "---  ------                         --------------  ----- \n",
      " 0   order_id                       99441 non-null  object\n",
      " 1   customer_id                    99441 non-null  object\n",
      " 2   order_status                   99441 non-null  object\n",
      " 3   order_purchase_timestamp       99441 non-null  object\n",
      " 4   order_approved_at              99281 non-null  object\n",
      " 5   order_delivered_carrier_date   97658 non-null  object\n",
      " 6   order_delivered_customer_date  96476 non-null  object\n",
      " 7   order_estimated_delivery_date  99441 non-null  object\n",
      "dtypes: object(8)\n",
      "memory usage: 6.1+ MB\n",
      "\n",
      "==================================================\n",
      "\n"
     ]
    }
   ],
   "source": [
    "# Obter informações sobre as colunas, tipos de dados e valores não nulos\n",
    "print(\"Informações sobre df_orders:\")\n",
    "df_orders.info()\n",
    "print(\"\\n\" + \"=\"*50 + \"\\n\")"
   ]
  },
  {
   "cell_type": "code",
   "execution_count": 9,
   "id": "dbe5fc00-897e-43ac-8774-f63bbd306aba",
   "metadata": {},
   "outputs": [
    {
     "name": "stdout",
     "output_type": "stream",
     "text": [
      "Informações sobre df_payments:\n",
      "<class 'pandas.core.frame.DataFrame'>\n",
      "RangeIndex: 103886 entries, 0 to 103885\n",
      "Data columns (total 5 columns):\n",
      " #   Column                Non-Null Count   Dtype  \n",
      "---  ------                --------------   -----  \n",
      " 0   order_id              103886 non-null  object \n",
      " 1   payment_sequential    103886 non-null  int64  \n",
      " 2   payment_type          103886 non-null  object \n",
      " 3   payment_installments  103886 non-null  int64  \n",
      " 4   payment_value         103886 non-null  float64\n",
      "dtypes: float64(1), int64(2), object(2)\n",
      "memory usage: 4.0+ MB\n"
     ]
    }
   ],
   "source": [
    "# Obter informações sobre as colunas, tipos de dados e valores não nulos\n",
    "print(\"Informações sobre df_payments:\")\n",
    "df_payments.info()"
   ]
  },
  {
   "cell_type": "code",
   "execution_count": 11,
   "id": "a6080602-bb47-4f30-8d42-81ceaad6c7f8",
   "metadata": {},
   "outputs": [
    {
     "name": "stdout",
     "output_type": "stream",
     "text": [
      "Valores ausentes em df_orders:\n",
      "order_id                            0\n",
      "customer_id                         0\n",
      "order_status                        0\n",
      "order_purchase_timestamp            0\n",
      "order_approved_at                 160\n",
      "order_delivered_carrier_date     1783\n",
      "order_delivered_customer_date    2965\n",
      "order_estimated_delivery_date       0\n",
      "dtype: int64\n",
      "\n",
      "Valores ausentes em df_payments:\n",
      "order_id                0\n",
      "payment_sequential      0\n",
      "payment_type            0\n",
      "payment_installments    0\n",
      "payment_value           0\n",
      "dtype: int64\n"
     ]
    }
   ],
   "source": [
    "# Verificar valores NaN\n",
    "print(\"Valores ausentes em df_orders:\")\n",
    "print(df_orders.isnull().sum())\n",
    "\n",
    "print(\"\\nValores ausentes em df_payments:\")\n",
    "print(df_payments.isnull().sum())"
   ]
  },
  {
   "cell_type": "code",
   "execution_count": 12,
   "id": "76862c7e-78fe-4897-b267-14a711a9717e",
   "metadata": {},
   "outputs": [
    {
     "name": "stdout",
     "output_type": "stream",
     "text": [
      "<class 'pandas.core.frame.DataFrame'>\n",
      "RangeIndex: 99441 entries, 0 to 99440\n",
      "Data columns (total 8 columns):\n",
      " #   Column                         Non-Null Count  Dtype         \n",
      "---  ------                         --------------  -----         \n",
      " 0   order_id                       99441 non-null  object        \n",
      " 1   customer_id                    99441 non-null  object        \n",
      " 2   order_status                   99441 non-null  object        \n",
      " 3   order_purchase_timestamp       99441 non-null  datetime64[ns]\n",
      " 4   order_approved_at              99281 non-null  object        \n",
      " 5   order_delivered_carrier_date   97658 non-null  object        \n",
      " 6   order_delivered_customer_date  96476 non-null  object        \n",
      " 7   order_estimated_delivery_date  99441 non-null  object        \n",
      "dtypes: datetime64[ns](1), object(7)\n",
      "memory usage: 6.1+ MB\n"
     ]
    }
   ],
   "source": [
    "# Converter a coluna de data para o tipo datetime\n",
    "df_orders['order_purchase_timestamp'] = pd.to_datetime(df_orders['order_purchase_timestamp'])\n",
    "\n",
    "# Conferir se a conversão funcionou\n",
    "df_orders.info()"
   ]
  },
  {
   "cell_type": "code",
   "execution_count": 13,
   "id": "6ed972b7-b561-4195-9d2a-5747c9000b33",
   "metadata": {},
   "outputs": [],
   "source": [
    "# Fazer o merge dos dois DataFrames usando 'order_id'\n",
    "# Usado o 'inner' para manter apenas os pedidos que possuem pagamentos correspondentes\n",
    "df_conciliado = pd.merge(df_orders, df_payments, on='order_id', how='inner')"
   ]
  },
  {
   "cell_type": "code",
   "execution_count": 14,
   "id": "ec689b2a-50fd-4d1c-8871-6454a913ce5b",
   "metadata": {},
   "outputs": [
    {
     "name": "stdout",
     "output_type": "stream",
     "text": [
      "DataFrame Conciliado:\n",
      "                           order_id                       customer_id  \\\n",
      "0  e481f51cbdc54678b7cc49136f2d6af7  9ef432eb6251297304e76186b10a928d   \n",
      "1  e481f51cbdc54678b7cc49136f2d6af7  9ef432eb6251297304e76186b10a928d   \n",
      "2  e481f51cbdc54678b7cc49136f2d6af7  9ef432eb6251297304e76186b10a928d   \n",
      "3  53cdb2fc8bc7dce0b6741e2150273451  b0830fb4747a6c6d20dea0b8c802d7ef   \n",
      "4  47770eb9100c2d0c44946d9cf07ec65d  41ce2a54c0b03bf3443c3d931a367089   \n",
      "\n",
      "  order_status order_purchase_timestamp    order_approved_at  \\\n",
      "0    delivered      2017-10-02 10:56:33  2017-10-02 11:07:15   \n",
      "1    delivered      2017-10-02 10:56:33  2017-10-02 11:07:15   \n",
      "2    delivered      2017-10-02 10:56:33  2017-10-02 11:07:15   \n",
      "3    delivered      2018-07-24 20:41:37  2018-07-26 03:24:27   \n",
      "4    delivered      2018-08-08 08:38:49  2018-08-08 08:55:23   \n",
      "\n",
      "  order_delivered_carrier_date order_delivered_customer_date  \\\n",
      "0          2017-10-04 19:55:00           2017-10-10 21:25:13   \n",
      "1          2017-10-04 19:55:00           2017-10-10 21:25:13   \n",
      "2          2017-10-04 19:55:00           2017-10-10 21:25:13   \n",
      "3          2018-07-26 14:31:00           2018-08-07 15:27:45   \n",
      "4          2018-08-08 13:50:00           2018-08-17 18:06:29   \n",
      "\n",
      "  order_estimated_delivery_date  payment_sequential payment_type  \\\n",
      "0           2017-10-18 00:00:00                   1  credit_card   \n",
      "1           2017-10-18 00:00:00                   3      voucher   \n",
      "2           2017-10-18 00:00:00                   2      voucher   \n",
      "3           2018-08-13 00:00:00                   1       boleto   \n",
      "4           2018-09-04 00:00:00                   1  credit_card   \n",
      "\n",
      "   payment_installments  payment_value  \n",
      "0                     1          18.12  \n",
      "1                     1           2.00  \n",
      "2                     1          18.59  \n",
      "3                     1         141.46  \n",
      "4                     3         179.12  \n"
     ]
    }
   ],
   "source": [
    "# Verificar as 5 primeiras linhas do novo DataFrame conciliado\n",
    "print(\"DataFrame Conciliado:\")\n",
    "print(df_conciliado.head())"
   ]
  },
  {
   "cell_type": "code",
   "execution_count": 15,
   "id": "f47a3ad3-e697-4e26-a11c-d6ed29831545",
   "metadata": {},
   "outputs": [
    {
     "name": "stdout",
     "output_type": "stream",
     "text": [
      "Número de linhas no df_orders original: 99441\n",
      "Número de linhas no df_payments original: 103886\n",
      "Número de linhas no df_conciliado: 103886\n"
     ]
    }
   ],
   "source": [
    "# Verificar a quantidade de linhas do novo DataFrame para ver a perda de dados\n",
    "print(f\"Número de linhas no df_orders original: {len(df_orders)}\")\n",
    "print(f\"Número de linhas no df_payments original: {len(df_payments)}\")\n",
    "print(f\"Número de linhas no df_conciliado: {len(df_conciliado)}\")"
   ]
  },
  {
   "cell_type": "code",
   "execution_count": 16,
   "id": "af793816-e6c0-4269-a131-9f82dafec6b7",
   "metadata": {},
   "outputs": [
    {
     "name": "stdout",
     "output_type": "stream",
     "text": [
      "Arquivo 'conciliacao_de_vendas_olist.csv' criado com sucesso!\n"
     ]
    }
   ],
   "source": [
    "# Exportar o DataFrame conciliado para um novo arquivo CSV\n",
    "df_conciliado.to_csv('conciliacao_de_vendas_olist.csv', index=False)\n",
    "\n",
    "print(\"Arquivo 'conciliacao_de_vendas_olist.csv' criado com sucesso!\")"
   ]
  },
  {
   "cell_type": "code",
   "execution_count": null,
   "id": "36dfe171-297d-45a0-98b3-035679b3c79c",
   "metadata": {},
   "outputs": [],
   "source": []
  }
 ],
 "metadata": {
  "kernelspec": {
   "display_name": "Python [conda env:base] *",
   "language": "python",
   "name": "conda-base-py"
  },
  "language_info": {
   "codemirror_mode": {
    "name": "ipython",
    "version": 3
   },
   "file_extension": ".py",
   "mimetype": "text/x-python",
   "name": "python",
   "nbconvert_exporter": "python",
   "pygments_lexer": "ipython3",
   "version": "3.13.5"
  }
 },
 "nbformat": 4,
 "nbformat_minor": 5
}
